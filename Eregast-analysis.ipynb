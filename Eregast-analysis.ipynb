{
 "cells": [
  {
   "cell_type": "code",
   "execution_count": null,
   "id": "compound-death",
   "metadata": {},
   "outputs": [],
   "source": [
    "import requests\n",
    "import csv\n",
    "import os\n",
    "import pickle\n",
    "import pandas as pd\n",
    "import numpy as np\n",
    "from zipfile import ZipFile\n",
    "from matplotlib import pyplot as plt"
   ]
  },
  {
   "cell_type": "code",
   "execution_count": null,
   "id": "seeing-cradle",
   "metadata": {},
   "outputs": [],
   "source": [
    "from IPython.display import display, HTML\n",
    "display(HTML(\"<style>.container { width:90% !important; }</style>\"))"
   ]
  },
  {
   "cell_type": "code",
   "execution_count": null,
   "id": "imported-celtic",
   "metadata": {},
   "outputs": [],
   "source": [
    "def horizontal_barplot(df, rowcount, sort_value, sort_ascending, xcolumn, ycolumn, title='', \n",
    "                       xlabel='', ylabel='', invert_yaxis=True):\n",
    "    fig, ax = plt.subplots(figsize=(15,8))\n",
    "    plot_data = df.sort_values(sort_value, ascending=sort_ascending)[:rowcount]\n",
    "    rects = ax.barh(plot_data[xcolumn], plot_data[ycolumn])\n",
    "\n",
    "    for rect in rects:\n",
    "        yloc = rect.get_y() + rect.get_height() / 2\n",
    "        label = ax.annotate(str(rect.get_width()), xy=(rect.get_width(), yloc), xytext=(5, 0),\n",
    "                            textcoords=\"offset points\",\n",
    "                            ha=\"left\", va='center')\n",
    "    if invert_yaxis: ax.invert_yaxis()\n",
    "\n",
    "    ax.set_title(title)\n",
    "    ax.set_xlabel(xlabel)    \n",
    "    ax.set_ylabel(ylabel)   \n",
    "\n",
    "    \n",
    "def horizontal_driver_lines_plot(df, xcolumn, ycolumn, invert_yaxis=False, \n",
    "                                 title = '', xlabel='', ylabel='', \n",
    "                                 ymin=None, ymax=None):\n",
    "    fig, ax = plt.subplots(figsize=(15,10))\n",
    "    drivers = df['code'].unique()\n",
    "    for driver in drivers:\n",
    "        df[df.code == driver].plot(xcolumn, ycolumn, ax=ax, label=driver, \n",
    "                                   color=stats.get_driver_color(driver))\n",
    "    ax.get_legend().remove()\n",
    "    if invert_yaxis: ax.invert_yaxis()\n",
    "    if ymin: \n",
    "      ax.set_ylim(ymin, ymax)\n",
    "    else:\n",
    "        ymax = int(df[ycolumn].max())+1\n",
    "    ax.set_yticks(range(1, ymax, 1))\n",
    "    xmax = int(df[xcolumn].max())+1\n",
    "    ax.set_xticks(range(1, xmax, 2))\n",
    "    ax.set_xlabel(xlabel)\n",
    "    ax.set_ylabel(ylabel)\n",
    "    ax.set_title(title)\n",
    "\n",
    "    for line, name in zip(ax.lines, drivers):\n",
    "        y = line.get_ydata()[-1]\n",
    "        x = line.get_xdata()[-1]\n",
    "        text = ax.annotate(name, xy=(x + 0.1, y), xytext=(0, 0), \n",
    "                           color=line.get_color(), textcoords=\"offset points\")\n"
   ]
  },
  {
   "cell_type": "code",
   "execution_count": null,
   "id": "early-cooperation",
   "metadata": {},
   "outputs": [],
   "source": [
    "class F1Stats:\n",
    "    \n",
    "    zipfile=None\n",
    "    cachefile=None\n",
    "    dfs=None\n",
    "    test={\"A\":\"a\", \"B\":\"b\"}\n",
    "    # Geleend van FastF1\n",
    "    driver_colors = {\n",
    "        \"BOT\": \"#900000\", \"ZHO\": \"#500000\", \"GAS\": \"#2b4562\", \"TSU\": \"#356cac\", \"ALO\": \"#0090ff\", \"OCO\": \"#70c2ff\",\n",
    "        \"VET\": \"#006f62\", \"STR\": \"#25a617\", \"HUL\": \"#2f9b90\", \"LEC\": \"#dc0000\", \"SAI\": \"#ff8181\", \n",
    "        \"MAG\": \"#aaaaaa\", \"MSC\": \"#cacaca\", \"RIC\": \"#ff8700\", \"NOR\": \"#eeb370\", \"HAM\": \"#00d2be\", \"RUS\": \"#24ffff\", \n",
    "        \"VER\": \"#0600ef\", \"PER\": \"#716de2\", \"ALB\": \"#005aff\", \"LAT\": \"#012564\"\n",
    "    }\n",
    "    \n",
    "    points = [0, 25, 18, 15, 12, 10, 8, 6, 4, 2, 1, 0, 0, 0, 0, 0, 0, 0, 0, 0, 0, 0, 0, 0, 0, 0, 0, 0, 0, 0, 0, 0, 0, 0]\n",
    "\n",
    "    \n",
    "    def __init__(self, zipdir='f1db_csv', zipfile='f1db.zip', cachefile='f1stats.pcl'):\n",
    "        self.zipfile = os.path.join(zipdir, zipfile)\n",
    "        self.cachefile = cachefile\n",
    "\n",
    "    def download_data(self):\n",
    "        url = 'http://ergast.com/downloads/f1db_csv.zip'\n",
    "        r = requests.get(url, allow_redirects=True)\n",
    "        open(self.zipfile, 'wb').write(r.content)\n",
    "        # Open the zipfile\n",
    "        zip_file = ZipFile(self.zipfile)\n",
    "        # and read all files into a dictionary\n",
    "        # key is filename (without .csv extension\n",
    "        self.dfs = {text_file.filename[:-4]: pd.read_csv(zip_file.open(text_file.filename)).replace('\\\\N', '') \\\n",
    "                    for text_file in zip_file.infolist() if text_file.filename.endswith('.csv')} \n",
    "        print(self.dfs.keys())\n",
    "        \n",
    "    def save_data(self):\n",
    "        with open(self.cachefile, 'wb') as handle:\n",
    "            pickle.dump(self.dfs, handle, protocol=pickle.HIGHEST_PROTOCOL)\n",
    "    \n",
    "    def load_data(self):\n",
    "        with open(self.cachefile, 'rb') as handle:\n",
    "            self.dfs = pickle.load(handle)\n",
    "            \n",
    "    def initialize(self, download=True):\n",
    "        if download:\n",
    "            self.download_data()\n",
    "            self.cleanup_data()\n",
    "            self.save_data()\n",
    "        else:\n",
    "            self.load_data()        \n",
    "\n",
    "    def __column_strip_string(self, dfname, columnnames):\n",
    "        print(\"Stripping string in \\\"{}\\\" for columns {}\".format(dfname, columnnames))\n",
    "        for c in columnnames:\n",
    "            self.dfs[dfname][c] = self.dfs[dfname][c].str.strip()\n",
    "\n",
    "    def __column_to_int(self, dfname, columnnames, default=0):\n",
    "        print(\"Convert to int   in \\\"{}\\\" for columns {}\".format(dfname, columnnames))\n",
    "        for c in columnnames:\n",
    "            self.dfs[dfname][c] = self.dfs[dfname][c].replace('', default).astype(int)\n",
    "\n",
    "    def __column_to_float(self, dfname, columnnames, default=0):\n",
    "        print(\"Convert to float in \\\"{}\\\" for columns {}\".format(dfname, columnnames))\n",
    "        for c in columnnames:\n",
    "            self.dfs[dfname][c] = self.dfs[dfname][c].replace('', default).astype(float)\n",
    "\n",
    "    def __column_to_datetime(self, dfname, datecolumn, timecolumn=None, newcolumn=None, onerror='ignore'):\n",
    "        print(\"To datetime in      \\\"{}\\\" for columns {} and {} \".format(dfname, datecolumn, timecolumn))\n",
    "        dropcolumns=[]\n",
    "        if timecolumn:\n",
    "            self.dfs[dfname][datecolumn] = self.dfs[dfname][datecolumn] + ' ' + self.dfs[dfname][timecolumn]\n",
    "            dropcolumns.extend([timecolumn])\n",
    "        targetcolumn = datecolumn\n",
    "        if newcolumn:\n",
    "            targetcolumn = newcolumn\n",
    "            dropcolumns.extend([datecolumn])\n",
    "        self.dfs[dfname][targetcolumn] = pd.to_datetime(self.dfs[dfname][datecolumn], errors=onerror)\n",
    "        self.__drop_columns(dfname, dropcolumns)\n",
    "\n",
    "    def __column_to_time(self, dfname, datecolumn, timecolumn=None, newcolumn=None, onerror='ignore'):\n",
    "        self.__column_to_datetime(dfname, datecolumn, timecolumn, newcolumn, onerror)\n",
    "        targetcolumn = datecolumn\n",
    "        if newcolumn:\n",
    "            targetcolumn = newcolumn\n",
    "        self.dfs[dfname][targetcolumn] = self.dfs[dfname][targetcolumn].dt.time\n",
    "\n",
    "    def __column_to_date(self, dfname, datecolumn, timecolumn=None, newcolumn=None, onerror='ignore'):\n",
    "        self.__column_to_datetime(dfname, datecolumn, timecolumn, newcolumn, onerror)\n",
    "        targetcolumn = datecolumn\n",
    "        if newcolumn:\n",
    "            targetcolumn = newcolumn\n",
    "        self.dfs[dfname][targetcolumn] = self.dfs[dfname][targetcolumn].dt.date\n",
    "        \n",
    "    def __drop_columns(self, dfname, dropcolumns):\n",
    "        print(\"Dropping columns in \\\"{}\\\" : {}\".format(dfname, dropcolumns))\n",
    "        self.dfs[dfname] = self.dfs[dfname].drop(columns=dropcolumns)\n",
    "        \n",
    "    def cleanup_data(self):\n",
    "        # Races\n",
    "        self.__column_strip_string(\"races\", [\"name\"])\n",
    "        self.__column_to_datetime(\"races\", \"date\", \"time\")\n",
    "        self.__column_to_datetime(\"races\", \"fp1_date\", \"fp1_time\", \"fp1\")\n",
    "        self.__column_to_datetime(\"races\", \"fp2_date\", \"fp2_time\", \"fp2\")\n",
    "        self.__column_to_datetime(\"races\", \"fp3_date\", \"fp3_time\", \"fp3\")\n",
    "        self.__column_to_datetime(\"races\", \"quali_date\", \"quali_time\", \"quali\")\n",
    "        self.__column_to_datetime(\"races\", \"sprint_date\", \"sprint_time\", \"sprint\")\n",
    "        self.__drop_columns(\"races\", [\"url\"])\n",
    "        # Results\n",
    "        self.__column_to_int(\"results\", ['position', 'number', 'fastestLap', 'rank'])\n",
    "        self.__column_to_float(\"results\", ['fastestLapSpeed'])\n",
    "        self.__column_strip_string(\"results\", [\"positionText\"])\n",
    "        self.__column_to_time(\"results\", \"fastestLapTime\")\n",
    "        # Drivers\n",
    "        self.__column_to_int(\"drivers\", ['number'])\n",
    "        self.__column_strip_string(\"drivers\", ['driverRef', 'code', 'forename', 'surname', 'nationality'])\n",
    "        self.__column_to_date(\"drivers\", \"dob\")\n",
    "        self.dfs['drivers']['name'] = self.dfs['drivers']['forename'] + ' ' + self.dfs['drivers']['surname']\n",
    "        self.__drop_columns('drivers', ['url'])\n",
    "        # Constructors\n",
    "        self.__column_strip_string(\"constructors\", ['constructorRef', 'name', 'nationality'])\n",
    "        self.__drop_columns(\"constructors\", ['url'])\n",
    "        # Qualifying\n",
    "        self.__column_to_time(\"qualifying\", \"q1\")\n",
    "        self.__column_to_time(\"qualifying\", \"q2\")\n",
    "        self.__column_to_time(\"qualifying\", \"q3\")\n",
    "        # Sprint results\n",
    "        self.__column_to_int(\"sprint_results\", ['position', 'number', 'fastestLap'])\n",
    "        self.__column_strip_string(\"sprint_results\", [\"positionText\"])\n",
    "        self.__column_to_time(\"sprint_results\", \"fastestLapTime\")\n",
    "        # Driver standings\n",
    "        self.__column_strip_string(\"driver_standings\", ['positionText'])\n",
    "        # Constructor standings\n",
    "        self.__column_strip_string(\"constructor_standings\", ['positionText'])\n",
    "        # Lap times\n",
    "        self.__column_to_time(\"lap_times\", \"time\", onerror='coerce')\n",
    "        # Pit stops\n",
    "        self.__column_to_time(\"pit_stops\", \"time\", onerror='coerce')\n",
    "\n",
    "    def get_table(self, table):\n",
    "        return self.dfs[table].copy()\n",
    "\n",
    "    def get_race_results_simple(self):\n",
    "        raceresults = pd.merge(self.dfs['results'][['resultId', 'raceId', 'driverId', 'constructorId', \n",
    "                                                    'grid','position', 'positionText']], \n",
    "                               self.dfs['races'][['raceId', 'year', 'round', 'name', 'date']]. \\\n",
    "                                    rename(columns={'name': 'race'}))\n",
    "        raceresults = pd.merge(raceresults,\n",
    "                               self.dfs['drivers'][['driverId', 'number', 'name', 'code']]. \\\n",
    "                                    rename(columns={'name': 'driver'}))\n",
    "        raceresults = pd.merge(raceresults,\n",
    "                               self.dfs['constructors'][['constructorId', 'name']]. \\\n",
    "                                    rename(columns={'name': 'constructor'}))\n",
    "        raceresults = raceresults.drop(columns=['resultId'])\n",
    "        raceresults = raceresults.sort_values(['year', 'round', 'position'])\n",
    "        raceresults['points'] = raceresults['position'].apply(lambda x: self.points[x])\n",
    "        return raceresults.copy()\n",
    "\n",
    "    def get_race_results(self):\n",
    "        raceresults = \\\n",
    "            pd.merge(\n",
    "                     pd.merge(pd.merge(self.dfs['results'][['resultId', 'raceId', 'driverId', 'constructorId', \n",
    "                                                            'grid','position', 'positionText']], \n",
    "                                       self.dfs['races'][['raceId', 'year', 'round', 'name', 'date']]. \\\n",
    "                                               rename(columns={'name': 'race'})),\n",
    "                              self.dfs['drivers'][['driverId', 'number', 'name', 'code']]. \\\n",
    "                                      rename(columns={'name': 'driver'})),\n",
    "                     self.dfs['constructors'][['constructorId', 'name']].rename(columns={'name': 'constructor'})\n",
    "                    )\n",
    "        raceresults = raceresults.drop(columns=['resultId'])\n",
    "        raceresults = raceresults.sort_values(['year', 'round', 'position'])\n",
    "        raceresults['points'] = raceresults['position'].apply(lambda x: self.points[x])\n",
    "        return raceresults.copy()\n",
    "    \n",
    "    def get_winners(self):\n",
    "        winners = self.get_race_results()\n",
    "        winners = winners[winners.position == 1]\n",
    "        return winners.copy()\n",
    "\n",
    "    def get_quali_results(self):\n",
    "        qualiresults = \\\n",
    "            pd.merge(\n",
    "                     pd.merge(pd.merge(self.dfs['qualifying'][['qualifyId', 'raceId', 'driverId', 'constructorId', \n",
    "                                                            'position']], \n",
    "                                       self.dfs['races'][['raceId', 'year', 'round', 'name', 'date']]. \\\n",
    "                                               rename(columns={'name': 'race'})),\n",
    "                              self.dfs['drivers'][['driverId', 'number', 'forename', 'surname', 'name']]. \\\n",
    "                                      rename(columns={'name': 'driver'})),\n",
    "                     self.dfs['constructors'][['constructorId', 'name']].rename(columns={'name': 'constructor'})\n",
    "                    )\n",
    "        qualiresults = qualiresults.drop(columns=['qualifyId', 'forename', 'surname'])\n",
    "        qualiresults = qualiresults.sort_values(['year', 'round', 'position'])\n",
    "        return qualiresults.copy()\n",
    "\n",
    "    def get_pole_sitters(self):\n",
    "        poles = self.get_quali_results()\n",
    "        poles = poles[poles.position ==1]\n",
    "        return poles\n",
    "\n",
    "    def get_dnfs(self):\n",
    "        dnfs = self.get_race_results()\n",
    "        dnfs = dnfs[~dnfs['positionText'].str.isnumeric()]\n",
    "        return dnfs.copy()\n",
    "    \n",
    "    def get_wdc_standing(self, year=None):\n",
    "        standings = \\\n",
    "           self.dfs[\"driver_standings\"]. \\\n",
    "            merge(self.dfs[\"races\"][['raceId', 'year', 'round', 'name']].rename(columns={'name':'race'}), \n",
    "                  on='raceId') .\\\n",
    "            merge(self.dfs[\"drivers\"][['driverId', 'name', 'code']])\n",
    "        return standings[standings.year == year].copy() if year else standings.copy()\n",
    "\n",
    "    def get_wcc_standing(self, year=None):\n",
    "        standings = \\\n",
    "            stats.dfs[\"constructor_standings\"]. \\\n",
    "                merge(stats.dfs[\"races\"][['raceId', 'year', 'round', 'name']].rename(columns={'name':'race'}),\n",
    "                      on='raceId') .\\\n",
    "                merge(stats.dfs[\"constructors\"][['constructorId', 'name']])    \n",
    "        return standings[standings.year == year].copy() if year else standings.copy()\n",
    "    \n",
    "    \n",
    "    def get_wdc_champions(self):\n",
    "        standings = self.get_wdc_standing()\n",
    "        champions = standings[['year', 'round']].groupby('year').max().reset_index()\n",
    "        champions['position'] = 1\n",
    "        champions = champions.merge(\n",
    "                        standings[['year', 'round', 'position', 'driverId', 'name', 'code', 'points', 'wins']])\n",
    "        champions['perc_win'] =  (champions['wins'] / champions['round'] * 1000).astype(int) / 10\n",
    "        return champions.copy()\n",
    "    \n",
    "    def get_laps_for_race(self, year, race):\n",
    "        races = self.dfs['races']\n",
    "        races = races[races.year == year]\n",
    "        if isinstance(race,int):\n",
    "            races = races[races[\"round\"] == race]\n",
    "        else:\n",
    "            races = races[races[\"name\"].str.contains(race)]\n",
    "        raceID = races.iloc[0]['raceId']\n",
    "        laps = self.dfs['lap_times'][self.dfs['lap_times']['raceId'] == raceID]\n",
    "        laps = laps.merge(self.dfs[\"drivers\"][['driverId', 'name', 'code']])\n",
    "        laps = laps.merge(self.dfs['races'][['raceId', 'name']].rename(columns={'name':'event'}), on='raceId')\n",
    "        return laps.copy()\n",
    "    \n",
    "    def get_driver_color(self, code):\n",
    "        if code in set(self.dfs['drivers']['driverId'].unique()):\n",
    "            code = self.dfs['drivers'][self.dfs['drivers']['driverId'] == code]['code'].values[0]\n",
    "        if code in self.driver_colors:\n",
    "            return self.driver_colors[code]\n",
    "        else:\n",
    "            return \"#000000\"\n",
    "        \n",
    "    def info(self, methods=True, tables=True):\n",
    "        if methods:\n",
    "            methodList = []\n",
    "            for method_name in dir(F1Stats):\n",
    "                try:\n",
    "                    if callable(getattr(object, method_name)):\n",
    "                        if not method_name.startswith('_'):\n",
    "                            methodList.append(str(method_name))\n",
    "                except Exception:\n",
    "                    if not method_name.startswith('_'):\n",
    "                        methodList.append(str(method_name))\n",
    "            print('Methods')\n",
    "            print('=======')\n",
    "            for m in methodList:\n",
    "                print(m)\n",
    "            print()\n",
    "        if tables:\n",
    "            print('Tables')\n",
    "            print('======')\n",
    "            for key in stats.dfs.keys():\n",
    "                print('{} '.format(key))\n",
    "                for clm in stats.dfs[key].columns:\n",
    "                    print('   {:22s}  - {}'.format(clm, stats.dfs[key][clm].dtype))\n",
    "\n",
    "stats = F1Stats()\n",
    "stats.initialize(download=False)\n",
    "stats.dfs.keys()\n",
    "stats.info(methods=True, tables=False)"
   ]
  },
  {
   "cell_type": "code",
   "execution_count": null,
   "id": "smart-coalition",
   "metadata": {},
   "outputs": [],
   "source": [
    "# # Get required dataframes\n",
    "# races = stats.get_table(\"races\")\n",
    "# drivers = stats.get_table(\"drivers\")\n",
    "# constructors = stats.get_table(\"constructors\")\n",
    "\n",
    "# results = stats.get_table(\"results\")\n",
    "# constructor_results = stats.get_table(\"constructor_results\")\n",
    "# qualifying = stats.get_table(\"qualifying\")\n",
    "# sprint_results = stats.get_table(\"sprint_results\")\n",
    "\n",
    "# driver_standings = stats.get_table(\"driver_standings\")\n",
    "# constructor_standings = stats.get_table(\"constructor_standings\")\n",
    "\n",
    "# lap_times = stats.get_table(\"lap_times\")\n",
    "# pit_stops = stats.get_table(\"pit_stops\")\n",
    "# status = stats.get_table(\"status\")"
   ]
  },
  {
   "cell_type": "markdown",
   "id": "thermal-genesis",
   "metadata": {},
   "source": [
    "# Determine the number of consequetive wins"
   ]
  },
  {
   "cell_type": "code",
   "execution_count": null,
   "id": "wrong-suspect",
   "metadata": {},
   "outputs": [],
   "source": [
    "winners = stats.get_winners()\n",
    "winners['conseq_winner'] = (winners['year'] == winners['year'].shift(1)) & \\\n",
    "                           (winners['driverId'] == winners['driverId'].shift(1))\n",
    "# Count consecutive occurences (does this for both True and False!)\n",
    "winners[\"conseq_count\"] = winners[\"conseq_winner\"].groupby((winners[\"conseq_winner\"] != winners[\"conseq_winner\"]. \\\n",
    "                                                            shift()).cumsum()).cumcount()\n",
    "winners[\"conseq_count\"] = winners[\"conseq_count\"] + 1\n",
    "# # Only keep the True\n",
    "winners.loc[~winners.conseq_winner, 'conseq_count'] = 1\n",
    "winners['conseq_count2'] = winners['conseq_count'].shift(-1)\n",
    "winners.loc[winners.conseq_count2 == 2, 'conseq_count'] = 1\n",
    "# # Add first win to the count\n",
    "winners.conseq_count= winners.apply(lambda row: row.conseq_count+1 if row.conseq_winner else row.conseq_count, axis=1)\n",
    "winners = winners.drop(columns=['conseq_winner', 'conseq_count2'])\n",
    "winners"
   ]
  },
  {
   "cell_type": "code",
   "execution_count": null,
   "id": "egyptian-feature",
   "metadata": {
    "scrolled": false
   },
   "outputs": [],
   "source": [
    "winners[((winners.conseq_count >= 6))]"
   ]
  },
  {
   "cell_type": "code",
   "execution_count": null,
   "id": "caring-liquid",
   "metadata": {},
   "outputs": [],
   "source": [
    "winners[winners.year == 1993]"
   ]
  },
  {
   "cell_type": "code",
   "execution_count": null,
   "id": "further-mitchell",
   "metadata": {},
   "outputs": [],
   "source": []
  },
  {
   "cell_type": "markdown",
   "id": "different-butterfly",
   "metadata": {},
   "source": [
    "# Determine number of wins per driver and constructor"
   ]
  },
  {
   "cell_type": "code",
   "execution_count": null,
   "id": "necessary-drama",
   "metadata": {},
   "outputs": [],
   "source": [
    "winners = stats.get_winners()\n",
    "wins = winners[['driverId', 'driver', 'race']].groupby(['driverId', 'driver']).count().reset_index()\n",
    "wins = wins.sort_values('race', ascending=False)"
   ]
  },
  {
   "cell_type": "code",
   "execution_count": null,
   "id": "inner-funeral",
   "metadata": {},
   "outputs": [],
   "source": [
    "horizontal_barplot(df=wins, rowcount=10, sort_value='race', sort_ascending=False, \n",
    "                   xcolumn='driver', ycolumn='race', invert_yaxis=True,\n",
    "                   title='Drivers with most wins', \n",
    "                   xlabel='wins', ylabel='')"
   ]
  },
  {
   "cell_type": "code",
   "execution_count": null,
   "id": "ready-restaurant",
   "metadata": {},
   "outputs": [],
   "source": [
    "wins = winners[['constructor', 'race']].groupby('constructor').count().reset_index().sort_values('race', ascending=False)\n",
    "\n",
    "horizontal_barplot(df=wins, rowcount=10, sort_value='race', sort_ascending=False, \n",
    "                   xcolumn='constructor', ycolumn='race', invert_yaxis=True,\n",
    "                   title='Wins per constructor', \n",
    "                   xlabel='wins', ylabel='')"
   ]
  },
  {
   "cell_type": "code",
   "execution_count": null,
   "id": "innovative-ethiopia",
   "metadata": {},
   "outputs": [],
   "source": [
    "df = winners[['constructor', 'driver', 'race']].groupby(['constructor', 'driver']).count(). \\\n",
    "            sort_values('constructor')\n",
    "df[df.race >= 15].sort_values(['constructor', 'race'], ascending=False)"
   ]
  },
  {
   "cell_type": "markdown",
   "id": "careful-lover",
   "metadata": {},
   "source": [
    "# Drivers WDC standings over the season"
   ]
  },
  {
   "cell_type": "code",
   "execution_count": null,
   "id": "broadband-measurement",
   "metadata": {},
   "outputs": [],
   "source": [
    "year=2022\n",
    "standings = stats.get_wdc_standing(year)\n",
    "standings"
   ]
  },
  {
   "cell_type": "code",
   "execution_count": null,
   "id": "external-selection",
   "metadata": {},
   "outputs": [],
   "source": [
    "horizontal_driver_lines_plot(df=standings, xcolumn='round', ycolumn='position', invert=True,\n",
    "                             title='Championships standings ({})'.format(year),\n",
    "                             xlabel='Round', ylabel='Position')"
   ]
  },
  {
   "cell_type": "code",
   "execution_count": null,
   "id": "personal-latex",
   "metadata": {},
   "outputs": [],
   "source": [
    "horizontal_driver_lines_plot(df=standings, xcolumn='round', ycolumn='points', invert=False,\n",
    "                             title='Championships points ({})'.format(year),\n",
    "                             xlabel='Round', ylabel='Points')"
   ]
  },
  {
   "cell_type": "markdown",
   "id": "clear-trance",
   "metadata": {},
   "source": [
    "# Number of wins per champion"
   ]
  },
  {
   "cell_type": "code",
   "execution_count": null,
   "id": "entertaining-remainder",
   "metadata": {},
   "outputs": [],
   "source": [
    "standings = stats.get_wdc_standing(None)"
   ]
  },
  {
   "cell_type": "code",
   "execution_count": null,
   "id": "adult-bible",
   "metadata": {},
   "outputs": [],
   "source": [
    "champions = stats.get_wdc_champions()\n",
    "champions.sort_values('perc_win').head(10)"
   ]
  },
  {
   "cell_type": "code",
   "execution_count": null,
   "id": "capable-magazine",
   "metadata": {},
   "outputs": [],
   "source": [
    "ax = champions.plot.bar('year', 'wins', figsize=(15,5))\n",
    "ax.set_ylabel('Wins')\n",
    "ax.set_title('Number of races won by champion')"
   ]
  },
  {
   "cell_type": "code",
   "execution_count": null,
   "id": "defined-preference",
   "metadata": {},
   "outputs": [],
   "source": [
    "ax = champions.plot.bar('year', 'perc_win', figsize=(15,5))\n",
    "ax.set_ylabel('Percentage')\n",
    "ax.set_title('Percentage races won by champion')"
   ]
  },
  {
   "cell_type": "markdown",
   "id": "north-fetish",
   "metadata": {},
   "source": [
    "# Most wins by drivers never being world champion"
   ]
  },
  {
   "cell_type": "code",
   "execution_count": null,
   "id": "explicit-guinea",
   "metadata": {},
   "outputs": [],
   "source": [
    "winners = stats.get_winners()\n",
    "wins_per_driver = winners[['driverId', 'year']].groupby('driverId').count().reset_index(). \\\n",
    "                            rename(columns={\"year\": \"podiums\"})\n",
    "champs = stats.get_wdc_champions()"
   ]
  },
  {
   "cell_type": "code",
   "execution_count": null,
   "id": "occupational-spokesman",
   "metadata": {},
   "outputs": [],
   "source": [
    "not_champ = wins_per_driver[~wins_per_driver.driverId.isin(pd.unique(champs['driverId']))]\n",
    "not_champ = not_champ.merge(stats.get_table('drivers'))[['driverId', 'name', 'podiums']]\n",
    "not_champ = not_champ.sort_values('podiums', ascending=False)"
   ]
  },
  {
   "cell_type": "code",
   "execution_count": null,
   "id": "adult-multiple",
   "metadata": {},
   "outputs": [],
   "source": [
    "horizontal_barplot(df=not_champ, rowcount=10, sort_value='podiums', sort_ascending=False, \n",
    "                   xcolumn='name', ycolumn='podiums', \n",
    "                   title='Drivers with most wins without winning a championship', \n",
    "                   xlabel='wins', ylabel='')"
   ]
  },
  {
   "cell_type": "markdown",
   "id": "olive-perception",
   "metadata": {},
   "source": [
    "# Most podiums  without champion"
   ]
  },
  {
   "cell_type": "code",
   "execution_count": null,
   "id": "horizontal-palestinian",
   "metadata": {},
   "outputs": [],
   "source": [
    "podiums = stats.get_race_results()\n",
    "podiums = podiums[podiums.position.between(1, 3)]\n",
    "podiums_per_driver = podiums[['driverId', 'year']].groupby('driverId').count().reset_index(). \\\n",
    "                            rename(columns={\"year\": \"podiums\"})\n",
    "champs = stats.get_wdc_champions()"
   ]
  },
  {
   "cell_type": "code",
   "execution_count": null,
   "id": "interracial-harrison",
   "metadata": {},
   "outputs": [],
   "source": [
    "not_champ = podiums_per_driver[~podiums_per_driver.driverId.isin(pd.unique(champs['driverId']))]\n",
    "not_champ = not_champ.merge(stats.get_table('drivers'))[['driverId', 'name', 'podiums']]\n",
    "not_champ = not_champ.sort_values('podiums', ascending=False)"
   ]
  },
  {
   "cell_type": "code",
   "execution_count": null,
   "id": "third-clearing",
   "metadata": {},
   "outputs": [],
   "source": [
    "horizontal_barplot(df=not_champ, rowcount=10, sort_value='podiums', sort_ascending=False, \n",
    "                   xcolumn='name', ycolumn='podiums', \n",
    "                   title='Drivers with most podiums without winning a championship', \n",
    "                   xlabel='podiums', ylabel='')"
   ]
  },
  {
   "cell_type": "markdown",
   "id": "quality-giving",
   "metadata": {},
   "source": [
    "# Grandprix lap chart"
   ]
  },
  {
   "cell_type": "code",
   "execution_count": null,
   "id": "harmful-restaurant",
   "metadata": {},
   "outputs": [],
   "source": [
    "year = 2022\n",
    "event = \"Hungarian\"\n",
    "laps = stats.get_laps_for_race(year, event)\n",
    "\n",
    "\n",
    "# Add startgrid for lap 0\n",
    "\n",
    "# what about drivers finishing on a lap\n"
   ]
  },
  {
   "cell_type": "code",
   "execution_count": null,
   "id": "premium-consumer",
   "metadata": {},
   "outputs": [],
   "source": [
    "horizontal_driver_lines_plot(df=laps, xcolumn='lap', ycolumn='position', invert=True,\n",
    "                             title='Lap chart for {} - {}'.format(year, laps['event'].iloc[0]),\n",
    "                             xlabel='Lap', ylabel='Position')"
   ]
  },
  {
   "cell_type": "markdown",
   "id": "fifty-gauge",
   "metadata": {},
   "source": [
    "# Compare points at a round with previous season"
   ]
  },
  {
   "cell_type": "code",
   "execution_count": null,
   "id": "narrative-longitude",
   "metadata": {},
   "outputs": [],
   "source": [
    "year=2022\n",
    "nw = stats.get_wdc_standing(year)\n",
    "rnd = nw['round'].max()\n",
    "nw = nw[nw['round'] == rnd][['position', 'code', 'name', 'points']].sort_values('points', ascending=False)\n",
    "pv = stats.get_wdc_standing(year-1)\n",
    "pv = pv[pv['round'] == rnd][['code', 'points']].sort_values('points', ascending=False)\n",
    "pv = pv.rename(columns={\"points\": \"prev_year\"})\n",
    "comp = pd.merge(nw, pv, on='code')\n",
    "comp['diff'] = comp['points'] - comp['prev_year']\n",
    "comp['color'] = 'green'\n",
    "comp.loc[comp['diff'] < 0, 'color'] = 'red'"
   ]
  },
  {
   "cell_type": "code",
   "execution_count": null,
   "id": "worth-chemistry",
   "metadata": {},
   "outputs": [],
   "source": [
    "fig, ax = plt.subplots(figsize=(15,8))\n",
    " \n",
    "# Plotting the horizontal lines\n",
    "rects = ax.hlines(y=comp.code, xmin=0, xmax=comp['diff'], color=comp['color'], alpha=0.4, linewidth=20)\n",
    "ax.invert_yaxis()\n",
    "\n",
    "for nm, vl in zip(comp.code, comp['diff']):\n",
    "    label = ax.annotate(str(vl), xy=(vl, nm), xytext=(5 if vl > 0 else -30, 0),\n",
    "                        textcoords=\"offset points\",\n",
    "                        ha=\"left\", va='center')\n",
    "ax.axvline(0, color='black')\n",
    "ax.set_title('Difference in points after {} rounds between {} and {}'.format(rnd, year, year-1))\n",
    "_ = ax.set_xlabel('Points difference')"
   ]
  },
  {
   "cell_type": "code",
   "execution_count": null,
   "id": "respected-camcorder",
   "metadata": {},
   "outputs": [],
   "source": [
    "year=2022\n",
    "nw = stats.get_wcc_standing(year)\n",
    "rnd = nw['round'].max()\n",
    "nw = nw[nw['round'] == rnd][['position', 'name', 'points']].sort_values('points', ascending=False)\n",
    "pv = stats.get_wcc_standing(year-1)\n",
    "pv = pv[pv['round'] == rnd][['name', 'points']].sort_values('points', ascending=False)\n",
    "pv = pv.rename(columns={\"points\": \"prev_year\"})\n",
    "comp = pd.merge(nw, pv, on='name')\n",
    "comp['diff'] = comp['points'] - comp['prev_year']\n",
    "comp['color'] = 'green'\n",
    "comp.loc[comp['diff'] < 0, 'color'] = 'red'"
   ]
  },
  {
   "cell_type": "code",
   "execution_count": null,
   "id": "agreed-physics",
   "metadata": {},
   "outputs": [],
   "source": [
    "fig, ax = plt.subplots(figsize=(15,8))\n",
    " \n",
    "# Plotting the horizontal lines\n",
    "rects = ax.hlines(y=comp.name, xmin=0, xmax=comp['diff'], color=comp['color'], alpha=0.4, linewidth=20)\n",
    "ax.invert_yaxis()\n",
    "\n",
    "for nm, vl in zip(comp.name, comp['diff']):\n",
    "    label = ax.annotate(str(vl), xy=(vl, nm), xytext=(5 if vl > 0 else -30, 0),\n",
    "                        textcoords=\"offset points\",\n",
    "                        ha=\"left\", va='center')\n",
    "ax.axvline(0, color='black')\n",
    "ax.set_title('Difference in points after {} rounds between {} and {}'.format(rnd, year, year-1))\n",
    "_ = ax.set_xlabel('Points difference')"
   ]
  },
  {
   "cell_type": "markdown",
   "id": "automated-luther",
   "metadata": {},
   "source": [
    "# Pole positions and pole+wins per driver"
   ]
  },
  {
   "cell_type": "code",
   "execution_count": null,
   "id": "arranged-lucas",
   "metadata": {},
   "outputs": [],
   "source": [
    "winners = stats.get_winners()\n",
    "poles = stats.get_pole_sitters()\n",
    "\n",
    "pandw = pd.merge(winners.add_prefix('win_'), poles.add_prefix('pole_'), left_on='win_raceId', right_on='pole_raceId')\n",
    "pandw = pandw[['win_raceId', 'win_year', 'win_round', 'win_driverId', 'win_driver', 'pole_driverId', 'pole_driver']]\n",
    "pandw['pole_and_win'] = (pandw['win_driverId'] == pandw['pole_driverId'])"
   ]
  },
  {
   "cell_type": "code",
   "execution_count": null,
   "id": "bearing-tower",
   "metadata": {},
   "outputs": [],
   "source": [
    "pw = pandw[pandw.pole_and_win][['pole_driver', 'pole_driverId', 'win_raceId']].groupby(['pole_driver', 'pole_driverId']).count().reset_index().rename(columns={'win_raceId' : 'poles_and_wins'})\n",
    "w = pandw[['pole_driver', 'pole_driverId', 'win_raceId']].groupby(['pole_driver', 'pole_driverId']).count().reset_index().rename(columns={'win_raceId' : 'poles'})\n",
    "res = pd.merge(w, pw, on = 'pole_driverId').drop(columns=['pole_driver_y'])[['pole_driver_x', 'poles', 'poles_and_wins']]\n",
    "res = res.rename(columns={'pole_driver_x': 'pole_driver'}).sort_values('poles', ascending=False)\n",
    "res.head(10)"
   ]
  },
  {
   "cell_type": "markdown",
   "id": "quick-midwest",
   "metadata": {},
   "source": [
    "# Average finishing position"
   ]
  },
  {
   "cell_type": "code",
   "execution_count": null,
   "id": "armed-arbor",
   "metadata": {},
   "outputs": [],
   "source": [
    "year = 2022\n",
    "results = stats.get_race_results()\n",
    "results = results[results['year'] == year]\n",
    "# DNF equals position 20\n",
    "results.loc[results['position'] == 0, 'position'] = 20\n",
    "#results = results[results['position'] > 0]\n",
    "results[['driver', 'position']].groupby('driver').mean().sort_values('position')"
   ]
  },
  {
   "cell_type": "markdown",
   "id": "cultural-involvement",
   "metadata": {},
   "source": [
    "# Places gained and lost"
   ]
  },
  {
   "cell_type": "code",
   "execution_count": null,
   "id": "generous-rolling",
   "metadata": {},
   "outputs": [],
   "source": [
    "year = 2022\n",
    "rnd = 13\n",
    "pgl = stats.get_race_results()\n",
    "pgl = pgl[(pgl['year'] == year) & (pgl['round'] == rnd)][['driver', 'grid', 'position']]\n",
    "pgl['change'] = pgl['grid'] - pgl['position']\n",
    "\n",
    "def _color_red_or_green(val):\n",
    "    color = 'orangered' if val < 0 else 'springgreen'\n",
    "    return 'background-color: %s' % color\n",
    "#pgl.style.applymap(_color_red_or_green)\n",
    "#pgl.style.applymap(lambda x: \"background-color: red\" if x>0 else \"background-color: white\")\n",
    "pgl.style.applymap(_color_red_or_green, subset=['change'])"
   ]
  },
  {
   "cell_type": "markdown",
   "id": "satisfactory-andorra",
   "metadata": {},
   "source": [
    "# Average age of drivers per year"
   ]
  },
  {
   "cell_type": "code",
   "execution_count": null,
   "id": "excessive-soccer",
   "metadata": {},
   "outputs": [],
   "source": [
    "raceresults = \\\n",
    "    pd.merge(\n",
    "             pd.merge(pd.merge(stats.dfs['results'][['resultId', 'raceId', 'driverId', 'constructorId', \n",
    "                                                    'grid','position']], \n",
    "                               stats.dfs['races'][['raceId', 'year', 'round', 'name', 'date']]. \\\n",
    "                                       rename(columns={'name': 'race'})),\n",
    "                      stats.dfs['drivers'][['driverId', 'number', 'name', 'dob']]. \\\n",
    "                              rename(columns={'name': 'driver'})),\n",
    "             stats.dfs['constructors'][['constructorId', 'name']].rename(columns={'name': 'constructor'})\n",
    "            )\n",
    "raceresults = raceresults.sort_values(['year', 'round', 'position'])\n",
    "raceresults['age'] = (pd.to_datetime(raceresults['date']).dt.date - raceresults['dob']) / np.timedelta64(1, 'Y')\n",
    "avg_age = raceresults[['year', 'age']].groupby('year').mean()"
   ]
  },
  {
   "cell_type": "code",
   "execution_count": null,
   "id": "accredited-letter",
   "metadata": {},
   "outputs": [],
   "source": [
    "fig, ax = plt.subplots(figsize=(15,8))\n",
    "\n",
    "avg_age.plot(ax=ax)\n",
    "ax.set_ylim(25,40)\n",
    "ax.set_title('Average age per year')\n",
    "ax.set_ylabel('age')\n",
    "ax.set_xlabel('year')"
   ]
  },
  {
   "cell_type": "markdown",
   "id": "intense-somewhere",
   "metadata": {},
   "source": [
    "# World champion with most DNF's"
   ]
  },
  {
   "cell_type": "code",
   "execution_count": null,
   "id": "moderate-scotland",
   "metadata": {},
   "outputs": [],
   "source": [
    "dnfs = stats.get_dnfs()\n",
    "dnfs = dnfs[['year', 'driverId', 'position']].groupby(['year', 'driverId']).count(). \\\n",
    "                                              reset_index().rename(columns={'position':'dnfs'})\n",
    "\n",
    "champs = stats.get_wdc_champions()\n",
    "champs = champs.merge(dnfs, on=['year', 'driverId'], how='left').fillna(0)\n",
    "champs['dnf_perc'] = (champs['dnfs'] / champs['round'] * 1000).astype(int) / 10\n",
    "\n",
    "champs[['year', 'name', 'wins', 'dnfs', 'dnf_perc']].sort_values('dnfs', ascending = False).head(10)"
   ]
  },
  {
   "cell_type": "markdown",
   "id": "violent-pharmaceutical",
   "metadata": {},
   "source": [
    "# Head to Head"
   ]
  },
  {
   "cell_type": "code",
   "execution_count": null,
   "id": "oriental-marker",
   "metadata": {},
   "outputs": [],
   "source": [
    "year = 2022\n",
    "driver1 = 'VER'\n",
    "driver2 = 'PER'"
   ]
  },
  {
   "cell_type": "code",
   "execution_count": null,
   "id": "weekly-syndrome",
   "metadata": {},
   "outputs": [],
   "source": [
    "race_results = stats.get_race_results()\n",
    "race_results = race_results[race_results['year'] == year]\n",
    "\n",
    "dr = [ race_results[race_results.code == driver1]['driverId'].values[0],\n",
    "       race_results[race_results.code == driver2]['driverId'].values[0] ]"
   ]
  },
  {
   "cell_type": "code",
   "execution_count": null,
   "id": "placed-clearing",
   "metadata": {},
   "outputs": [],
   "source": [
    "race_results['position'] = race_results['position'].replace(0, 30)\n",
    "race=[0, 0]\n",
    "for rid in race_results.raceId.unique():\n",
    "    pos1 = race_results.loc[(race_results.raceId == rid) & (race_results.driverId == dr[0]), 'position'].values[0]\n",
    "    pos2 = race_results.loc[(race_results.raceId == rid) & (race_results.driverId == dr[1]), 'position'].values[0]\n",
    "    if pos1 < pos2:\n",
    "        race[0] += 1\n",
    "    elif pos2 < pos1:\n",
    "        race[1] += 1"
   ]
  },
  {
   "cell_type": "code",
   "execution_count": null,
   "id": "fiscal-adoption",
   "metadata": {},
   "outputs": [],
   "source": [
    "quali_results = stats.get_quali_results()\n",
    "quali_results = quali_results[quali_results['year'] == year]\n",
    "quali=[0, 0]\n",
    "for rid in quali_results.raceId.unique():\n",
    "    pos1 = quali_results.loc[(quali_results.raceId == rid) & (quali_results.driverId == dr[0]), 'position'].values[0]\n",
    "    pos2 = quali_results.loc[(quali_results.raceId == rid) & (quali_results.driverId == dr[1]), 'position'].values[0]\n",
    "    if pos1 < pos2:\n",
    "        quali[0] += 1\n",
    "    elif pos2 < pos1:\n",
    "        quali[1] += 1"
   ]
  },
  {
   "cell_type": "code",
   "execution_count": null,
   "id": "comprehensive-panel",
   "metadata": {},
   "outputs": [],
   "source": [
    "standings = stats.get_wdc_standing()\n",
    "standings = standings[(standings['year'] == year)]\n",
    "standings = standings[(standings['round'] == standings['round'].max())]\n",
    "pnts = [ standings.loc[standings.driverId == dr[0], 'points'].values[0],\n",
    "         standings.loc[standings.driverId == dr[1], 'points'].values[0]  ]"
   ]
  },
  {
   "cell_type": "code",
   "execution_count": null,
   "id": "norman-money",
   "metadata": {},
   "outputs": [],
   "source": [
    "bpos = [ race_results.loc[race_results['driverId'] == dr[0], 'position'].min(),\n",
    "         race_results.loc[race_results['driverId'] == dr[1], 'position'].min() ]"
   ]
  },
  {
   "cell_type": "code",
   "execution_count": null,
   "id": "swedish-addition",
   "metadata": {},
   "outputs": [],
   "source": [
    "bgr  = [ race_results.loc[race_results['driverId'] == dr[0], 'grid'].min(),\n",
    "         race_results.loc[race_results['driverId'] == dr[1], 'grid'].min() ]"
   ]
  },
  {
   "cell_type": "code",
   "execution_count": null,
   "id": "decimal-bradford",
   "metadata": {},
   "outputs": [],
   "source": [
    "dnfs = stats.get_dnfs()\n",
    "dnfs = dnfs[dnfs['year'] == year]\n",
    "dnf = [ len(dnfs[dnfs.driverId == dr[0]]), \n",
    "        len(dnfs[dnfs.driverId == dr[1]]) ]"
   ]
  },
  {
   "cell_type": "code",
   "execution_count": null,
   "id": "dress-revelation",
   "metadata": {},
   "outputs": [],
   "source": [
    "wins = [ len(race_results.loc[(race_results['driverId'] == dr[0]) & (race_results['position'] == 1), 'position']),\n",
    "         len(race_results.loc[(race_results['driverId'] == dr[1]) & (race_results['position'] == 1), 'position']) ]\n",
    "\n",
    "podia = [ len(race_results.loc[(race_results['driverId'] == dr[0]) & (race_results['position'] <= 3), 'position']),\n",
    "          len(race_results.loc[(race_results['driverId'] == dr[1]) & (race_results['position'] <= 3), 'position']) ]"
   ]
  },
  {
   "cell_type": "code",
   "execution_count": null,
   "id": "alive-certificate",
   "metadata": {},
   "outputs": [],
   "source": [
    "print('Driver         : {}   {}'.format(driver1, driver2))\n",
    "print('Driver IDs     : {:3d}   {:3d}'.format(dr[0], dr[1]))\n",
    "print('Race           : {:3d}   {:3d}'.format(race[0], race[1]))\n",
    "print('Qualifying     : {:3d}   {:3d}'.format(quali[0], quali[1]))\n",
    "print('Points         : {:3.0f}   {:3.0f}'.format(pnts[0], pnts[1]))\n",
    "print('Best finsish   : {:3d}   {:3d}'.format(bpos[0], bpos[1]))\n",
    "print('Best grid      : {:3d}   {:3d}'.format(bgr[0], bgr[1]))\n",
    "print('DNFs           : {:3d}   {:3d}'.format(dnf[0], dnf[1]))\n",
    "print('Wins           : {:3d}   {:3d}'.format(wins[0], wins[1]))\n",
    "print('Podiums        : {:3d}   {:3d}'.format(podia[0], podia[1]))"
   ]
  },
  {
   "cell_type": "code",
   "execution_count": null,
   "id": "mobile-reynolds",
   "metadata": {},
   "outputs": [],
   "source": [
    "fig, ax = plt.subplots(figsize=(8,4))\n",
    "\n",
    "driver_clrs = [stats.get_driver_color(dr[0]), stats.get_driver_color(dr[1]) ]\n",
    "\n",
    "ys    = ['Race', 'Race',\n",
    "         'Quali', 'Quali',\n",
    "         'Points', 'Points', \n",
    "         'Best finish', 'Best finish', \n",
    "         'Best grid', 'Best grid', \n",
    "         'DNF', 'DNF']\n",
    "xmaxs = [-race[0]/max(race), race[1]/max(race), \\\n",
    "         -quali[0]/max(quali), quali[1]/max(quali), \\\n",
    "         -pnts[0]/max(pnts), pnts[1]/max(pnts), \\\n",
    "         -bpos[0]/max(bpos), bpos[1]/max(bpos), \\\n",
    "         -bgr[0]/max(bgr), bgr[1]/max(bgr), \\\n",
    "         -dnf[0]/max(dnf), dnf[1]/max(dnf)]\n",
    "labels = [race[0], race[1], \\\n",
    "          quali[0], quali[1], \\\n",
    "          pnts[0], pnts[1], \\\n",
    "          bpos[0], bpos[1], \\\n",
    "          bgr[0], bgr[1], \\\n",
    "          dnf[0], dnf[1]]\n",
    "clrs  = [driver_clrs[0], driver_clrs[1], \n",
    "         driver_clrs[0], driver_clrs[1],  \n",
    "         driver_clrs[0], driver_clrs[1],  \n",
    "         driver_clrs[0], driver_clrs[1],  \n",
    "         driver_clrs[0], driver_clrs[1],  \n",
    "         driver_clrs[0], driver_clrs[1], ]\n",
    "\n",
    "rects = ax.hlines(y=ys, xmin=0, xmax=xmaxs, color=clrs, alpha=0.4, linewidth=35)\n",
    "for nm, lbl, vl in zip(ys, labels, xmaxs):\n",
    "    label = ax.annotate(str(int(lbl)), xy=(vl, nm), xytext=(5 if vl > 0 else -20, 0),\n",
    "                        textcoords=\"offset points\",\n",
    "                        ha=\"left\", va='center')\n",
    "\n",
    "ax.set_xlim(-1.25, 1.25)\n",
    "ax.invert_yaxis()\n",
    "ax.axvline(0, color='black')\n",
    "plt.tick_params(axis='x', which='both', bottom=False, top=False, labelbottom=False)\n",
    "ax.set_title('Comparison {} to {}'.format(driver1, driver2))"
   ]
  },
  {
   "cell_type": "code",
   "execution_count": null,
   "id": "static-globe",
   "metadata": {},
   "outputs": [],
   "source": [
    "fig, ax = plt.subplots(figsize=(8,3.5))\n",
    "\n",
    "driver_clrs = [stats.get_driver_color(dr[0]), stats.get_driver_color(dr[1]) ]\n",
    "\n",
    "ys    = ['Points', 'Points', \n",
    "         'Wins', 'Wins', \n",
    "         'Podiums', 'Podiums', \n",
    "         'Quali', 'Quali', \n",
    "         'Race', 'Race']\n",
    "xmaxs = [-pnts[0]/max(pnts), pnts[1]/max(pnts), \\\n",
    "         -wins[0]/max(wins), wins[1]/max(wins), \\\n",
    "         -podia[0]/max(podia), podia[1]/max(podia), \\\n",
    "         -quali[0]/max(quali), quali[1]/max(quali), \\\n",
    "         -race[0]/max(race), race[1]/max(race)]\n",
    "labels = [pnts[0], pnts[1], \\\n",
    "          wins[0], wins[1], \\\n",
    "          podia[0], podia[1], \\\n",
    "          quali[0], quali[1], \\\n",
    "          race[0], race[1]]\n",
    "clrs  = [driver_clrs[0], driver_clrs[1], \n",
    "         driver_clrs[0], driver_clrs[1],  \n",
    "         driver_clrs[0], driver_clrs[1],  \n",
    "         driver_clrs[0], driver_clrs[1],  \n",
    "         driver_clrs[0], driver_clrs[1], ]\n",
    "\n",
    "rects = ax.hlines(y=ys, xmin=0, xmax=xmaxs, color=clrs, alpha=0.4, linewidth=35)\n",
    "for nm, lbl, vl in zip(ys, labels, xmaxs):\n",
    "    label = ax.annotate(str(int(lbl)), xy=(vl, nm), xytext=(5 if vl > 0 else -20, 0),\n",
    "                        textcoords=\"offset points\",\n",
    "                        ha=\"left\", va='center')\n",
    "\n",
    "ax.set_xlim(-1.25, 1.25)\n",
    "ax.axvline(0, color='black')\n",
    "plt.tick_params(axis='x', which='both', bottom=False, top=False, labelbottom=False)\n",
    "ax.set_title('Comparison {} to {}'.format(driver1, driver2))"
   ]
  },
  {
   "cell_type": "markdown",
   "id": "formal-walnut",
   "metadata": {},
   "source": [
    "# Compare lap times"
   ]
  },
  {
   "cell_type": "code",
   "execution_count": null,
   "id": "empty-prediction",
   "metadata": {
    "scrolled": false
   },
   "outputs": [],
   "source": [
    "season = 2022\n",
    "rnd = 13\n",
    "driver1 = 'VER'\n",
    "driver2 = 'LEC'\n",
    "laps = stats.get_laps_for_race(season, rnd)\n",
    "laps = laps[laps['code'].isin([driver1, driver2])]\n",
    "laps['milliseconds'] = laps['milliseconds'].div(1000)"
   ]
  },
  {
   "cell_type": "code",
   "execution_count": null,
   "id": "noble-person",
   "metadata": {},
   "outputs": [],
   "source": [
    "horizontal_driver_lines_plot(df=laps, xcolumn='lap', ycolumn='milliseconds', invert=False, ymin=80, ymax=120, \n",
    "                             title='Comparing lap times', xlabel='lap', ylabel='lap time')"
   ]
  },
  {
   "cell_type": "markdown",
   "id": "judicial-idaho",
   "metadata": {},
   "source": [
    "# Most dominated seasons"
   ]
  },
  {
   "cell_type": "code",
   "execution_count": null,
   "id": "beginning-excitement",
   "metadata": {},
   "outputs": [],
   "source": [
    "rnd = 13\n",
    "\n",
    "results = stats.get_race_results()\n",
    "results\n",
    "\n",
    "points = [0, 25, 18, 15, 12, 10, 8, 6, 4, 2, 1, 0, 0, 0, 0, 0, 0, 0, 0, 0, 0, 0, 0, 0, 0, 0, 0, 0, 0, 0, 0, 0, 0, 0]\n",
    "results['points'] = results['position'].apply(lambda x: points[x])\n",
    "results = results[results['round'] <= rnd]\n",
    "results = results[['year', 'driverId', 'driver', 'constructor', 'points']]. \\\n",
    "                 groupby(['year', 'driverId', 'driver', 'constructor']).sum().reset_index()\n",
    "results['points'] = results['points'].div(rnd)\n",
    "results = results.set_index('year').sort_values('points', ascending=False).groupby('year').nth(0). \\\n",
    "                  sort_values('points', ascending=False).reset_index()\n",
    "results['desc'] = results['year'].astype(str) + ' ' + results['driver']\n",
    "results"
   ]
  },
  {
   "cell_type": "code",
   "execution_count": null,
   "id": "warming-backup",
   "metadata": {
    "scrolled": false
   },
   "outputs": [],
   "source": [
    "horizontal_barplot(df=results, rowcount=10, sort_value='points', sort_ascending=False, \n",
    "                   ycolumn='points', xcolumn='desc', \n",
    "                   title='Most dominated sesaons (points according current system)', \n",
    "                   xlabel='points', ylabel='')"
   ]
  },
  {
   "cell_type": "markdown",
   "id": "hydraulic-tsunami",
   "metadata": {},
   "source": [
    "# Most laps led since 2020"
   ]
  },
  {
   "cell_type": "code",
   "execution_count": null,
   "id": "elder-parks",
   "metadata": {},
   "outputs": [],
   "source": [
    "year = 2020\n",
    "\n",
    "races = stats.dfs['races']\n",
    "races = races[races['year'] >= year]\n",
    "raceids = races['raceId'].values\n",
    "\n",
    "laps_led = stats.dfs['lap_times']\n",
    "laps_led = laps_led[laps_led['raceId'].isin(raceids)]\n",
    "laps_led = laps_led[['driverId', 'lap']].groupby('driverId').count().reset_index()\n",
    "laps_led = laps_led.merge(stats.dfs['drivers'][['driverId', 'code', 'name']])\n",
    "laps_led"
   ]
  },
  {
   "cell_type": "code",
   "execution_count": null,
   "id": "ancient-qatar",
   "metadata": {},
   "outputs": [],
   "source": [
    "horizontal_barplot(df=laps_led, rowcount=10, sort_value='lap', sort_ascending=False, \n",
    "                   xcolumn='name', ycolumn='lap', title='Most laps led since {}'.format(year), \n",
    "                   xlabel = 'laps', ylabel='', invert_yaxis=True)"
   ]
  },
  {
   "cell_type": "markdown",
   "id": "curious-dress",
   "metadata": {},
   "source": [
    "# Points scored in last 6 rounds"
   ]
  },
  {
   "cell_type": "code",
   "execution_count": null,
   "id": "strategic-billy",
   "metadata": {},
   "outputs": [],
   "source": [
    "results = stats.get_race_results()\n",
    "results = results[results['year'] == results['year'].max()]\n",
    "results = results[(results['round'] <= results['round'].max()) & (results['round'] > results['round'].max()-6)]\n",
    "results = results[['driver', 'code', 'points']].groupby(['driver', 'code']).sum().reset_index(). \\\n",
    "              rename(columns={'driver' : 'name'}).sort_values('points', ascending=False)\n",
    "\n",
    "horizontal_barplot(df=results, rowcount=10, sort_value='points', sort_ascending=False, \n",
    "                   xcolumn='name', ycolumn='points', title='Points scored in last 6 rounds', \n",
    "                   xlabel = 'points', ylabel='', invert_yaxis=True)"
   ]
  },
  {
   "cell_type": "code",
   "execution_count": null,
   "id": "cardiovascular-wheat",
   "metadata": {},
   "outputs": [],
   "source": []
  },
  {
   "cell_type": "code",
   "execution_count": null,
   "id": "nearby-father",
   "metadata": {},
   "outputs": [],
   "source": []
  },
  {
   "cell_type": "code",
   "execution_count": null,
   "id": "prompt-south",
   "metadata": {},
   "outputs": [],
   "source": []
  },
  {
   "cell_type": "code",
   "execution_count": null,
   "id": "foreign-wholesale",
   "metadata": {},
   "outputs": [],
   "source": []
  },
  {
   "cell_type": "code",
   "execution_count": null,
   "id": "exciting-lafayette",
   "metadata": {
    "scrolled": false
   },
   "outputs": [],
   "source": [
    "\n",
    "\n",
    "horizontal_driver_lines_plot(df=standings, xcolumn='round', ycolumn='position', invert_yaxis=True,\n",
    "                             title='Championships standings ({})'.format(year),\n",
    "                             xlabel='Round', ylabel='Position')"
   ]
  },
  {
   "cell_type": "code",
   "execution_count": null,
   "id": "operating-admission",
   "metadata": {},
   "outputs": [],
   "source": []
  },
  {
   "cell_type": "code",
   "execution_count": null,
   "id": "environmental-guinea",
   "metadata": {},
   "outputs": [],
   "source": []
  }
 ],
 "metadata": {
  "kernelspec": {
   "display_name": "Python 3 (ipykernel)",
   "language": "python",
   "name": "python3"
  },
  "language_info": {
   "codemirror_mode": {
    "name": "ipython",
    "version": 3
   },
   "file_extension": ".py",
   "mimetype": "text/x-python",
   "name": "python",
   "nbconvert_exporter": "python",
   "pygments_lexer": "ipython3",
   "version": "3.10.5"
  }
 },
 "nbformat": 4,
 "nbformat_minor": 5
}
